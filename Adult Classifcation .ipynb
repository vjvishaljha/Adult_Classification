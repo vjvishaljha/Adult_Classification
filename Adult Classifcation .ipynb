{
 "cells": [
  {
   "cell_type": "code",
   "execution_count": 1,
   "metadata": {},
   "outputs": [],
   "source": [
    "#importing the libraries\n",
    "import pandas as pd\n",
    "import numpy as np \n",
    "import matplotlib.pyplot as plt\n",
    "import seaborn as sns"
   ]
  },
  {
   "cell_type": "code",
   "execution_count": 2,
   "metadata": {},
   "outputs": [],
   "source": [
    "#Data Preprocessing "
   ]
  },
  {
   "cell_type": "code",
   "execution_count": 3,
   "metadata": {},
   "outputs": [],
   "source": [
    "#importing the dataset\n",
    "dataset=pd.read_csv('Adult_Dataset.csv')"
   ]
  },
  {
   "cell_type": "code",
   "execution_count": 4,
   "metadata": {},
   "outputs": [],
   "source": [
    "#Converting the target value of the dataset from string to binary class i.e 0 and 1 \n",
    "dataset.loc[dataset['Target']==' <=50K','Target']=0\n",
    "dataset.loc[dataset['Target']==' <=50K.','Target']=0\n",
    "dataset.loc[dataset['Target']==' >50K','Target']=1\n",
    "dataset.loc[dataset['Target']==' >50K.','Target']=1"
   ]
  },
  {
   "cell_type": "code",
   "execution_count": 5,
   "metadata": {},
   "outputs": [
    {
     "data": {
      "text/plain": [
       "<matplotlib.axes._subplots.AxesSubplot at 0x26455c811d0>"
      ]
     },
     "execution_count": 5,
     "metadata": {},
     "output_type": "execute_result"
    },
    {
     "data": {
      "image/png": "[encoded data removed]",
      "text/plain": [
       "<Figure size 432x288 with 1 Axes>"
      ]
     },
     "metadata": {
      "needs_background": "light"
     },
     "output_type": "display_data"
    }
   ],
   "source": [
    "#Visualising the new target column of our dataset\n",
    "sns.countplot(dataset['Target'],hue=dataset['Sex'])"
   ]
  },
  {
   "cell_type": "code",
   "execution_count": 12,
   "metadata": {},
   "outputs": [
    {
     "data": {
      "text/plain": [
       "<matplotlib.axes._subplots.AxesSubplot at 0x26458d5a518>"
      ]
     },
     "execution_count": 12,
     "metadata": {},
     "output_type": "execute_result"
    },
    {
     "data": {
      "image/png": "[encoded data removed]",
      "text/plain": [
       "<Figure size 432x288 with 1 Axes>"
      ]
     },
     "metadata": {
      "needs_background": "light"
     },
     "output_type": "display_data"
    }
   ],
   "source": [
    "sns.boxplot(dataset['Target'],dataset['Age'],hue=dataset['Sex'],width=0.5)"
   ]
  },
  {
   "cell_type": "code",
   "execution_count": 7,
   "metadata": {},
   "outputs": [
    {
     "name": "stdout",
     "output_type": "stream",
     "text": [
      "<class 'pandas.core.frame.DataFrame'>\n",
      "RangeIndex: 48842 entries, 0 to 48841\n",
      "Data columns (total 15 columns):\n",
      "Age                48842 non-null int64\n",
      "Workclass          48842 non-null object\n",
      "Fnlwgt             48842 non-null int64\n",
      "Education          48842 non-null object\n",
      "Education-num      48842 non-null int64\n",
      "Martial-Status     48842 non-null object\n",
      "Occupation         48842 non-null object\n",
      "Relationship       48842 non-null object\n",
      "Race               48842 non-null object\n",
      "Sex                48842 non-null object\n",
      "Captial-gain       48842 non-null int64\n",
      "Captial-loss       48842 non-null int64\n",
      "Hours-per-weeks    48842 non-null int64\n",
      "Native-Contry      48842 non-null object\n",
      "Target             48842 non-null int64\n",
      "dtypes: int64(7), object(8)\n",
      "memory usage: 5.6+ MB\n"
     ]
    }
   ],
   "source": [
    "#Checking the info the dataset\n",
    "dataset.info()"
   ]
  },
  {
   "cell_type": "code",
   "execution_count": 14,
   "metadata": {},
   "outputs": [],
   "source": [
    "#Converting the Categorical features \n",
    "new_Dataset=pd.get_dummies(dataset,columns=['Workclass','Martial-Status','Relationship','Race','Sex'],drop_first=True)"
   ]
  },
  {
   "cell_type": "code",
   "execution_count": 15,
   "metadata": {},
   "outputs": [
    {
     "name": "stdout",
     "output_type": "stream",
     "text": [
      "<class 'pandas.core.frame.DataFrame'>\n",
      "RangeIndex: 48842 entries, 0 to 48841\n",
      "Data columns (total 34 columns):\n",
      "Age                                      48842 non-null int64\n",
      "Fnlwgt                                   48842 non-null int64\n",
      "Education                                48842 non-null object\n",
      "Education-num                            48842 non-null int64\n",
      "Occupation                               48842 non-null object\n",
      "Captial-gain                             48842 non-null int64\n",
      "Captial-loss                             48842 non-null int64\n",
      "Hours-per-weeks                          48842 non-null int64\n",
      "Native-Contry                            48842 non-null object\n",
      "Target                                   48842 non-null int64\n",
      "Workclass_ Federal-gov                   48842 non-null uint8\n",
      "Workclass_ Local-gov                     48842 non-null uint8\n",
      "Workclass_ Never-worked                  48842 non-null uint8\n",
      "Workclass_ Private                       48842 non-null uint8\n",
      "Workclass_ Self-emp-inc                  48842 non-null uint8\n",
      "Workclass_ Self-emp-not-inc              48842 non-null uint8\n",
      "Workclass_ State-gov                     48842 non-null uint8\n",
      "Workclass_ Without-pay                   48842 non-null uint8\n",
      "Martial-Status_ Married-AF-spouse        48842 non-null uint8\n",
      "Martial-Status_ Married-civ-spouse       48842 non-null uint8\n",
      "Martial-Status_ Married-spouse-absent    48842 non-null uint8\n",
      "Martial-Status_ Never-married            48842 non-null uint8\n",
      "Martial-Status_ Separated                48842 non-null uint8\n",
      "Martial-Status_ Widowed                  48842 non-null uint8\n",
      "Relationship_ Not-in-family              48842 non-null uint8\n",
      "Relationship_ Other-relative             48842 non-null uint8\n",
      "Relationship_ Own-child                  48842 non-null uint8\n",
      "Relationship_ Unmarried                  48842 non-null uint8\n",
      "Relationship_ Wife                       48842 non-null uint8\n",
      "Race_ Asian-Pac-Islander                 48842 non-null uint8\n",
      "Race_ Black                              48842 non-null uint8\n",
      "Race_ Other                              48842 non-null uint8\n",
      "Race_ White                              48842 non-null uint8\n",
      "Sex_ Male                                48842 non-null uint8\n",
      "dtypes: int64(7), object(3), uint8(24)\n",
      "memory usage: 4.8+ MB\n"
     ]
    }
   ],
   "source": [
    "#Checking the info the dataset\n",
    "new_Dataset.info()"
   ]
  },
  {
   "cell_type": "code",
   "execution_count": 16,
   "metadata": {},
   "outputs": [],
   "source": [
    "#Dividing the Dataset into X and y \n",
    "X=new_Dataset.drop(['Target','Native-Contry','Education','Occupation'],axis=1) \n",
    "y=new_Dataset['Target']"
   ]
  },
  {
   "cell_type": "code",
   "execution_count": 17,
   "metadata": {},
   "outputs": [
    {
     "name": "stdout",
     "output_type": "stream",
     "text": [
      "                            OLS Regression Results                            \n",
      "==============================================================================\n",
      "Dep. Variable:                 Target   R-squared:                       0.498\n",
      "Model:                            OLS   Adj. R-squared:                  0.498\n",
      "Method:                 Least Squares   F-statistic:                     1613.\n",
      "Date:                Thu, 17 Jan 2019   Prob (F-statistic):               0.00\n",
      "Time:                        20:03:11   Log-Likelihood:                -17558.\n",
      "No. Observations:               48842   AIC:                         3.518e+04\n",
      "Df Residuals:                   48812   BIC:                         3.544e+04\n",
      "Df Model:                          30                                         \n",
      "Covariance Type:            nonrobust                                         \n",
      "=========================================================================================================\n",
      "                                            coef    std err          t      P>|t|      [0.025      0.975]\n",
      "---------------------------------------------------------------------------------------------------------\n",
      "Age                                       0.0022      0.000     15.166      0.000       0.002       0.002\n",
      "Fnlwgt                                 6.742e-08   1.51e-08      4.474      0.000    3.79e-08     9.7e-08\n",
      "Education-num                             0.0405      0.001     64.039      0.000       0.039       0.042\n",
      "Captial-gain                           8.526e-06   2.14e-07     39.770      0.000    8.11e-06    8.95e-06\n",
      "Captial-loss                           9.901e-05   3.93e-06     25.217      0.000    9.13e-05       0.000\n",
      "Hours-per-weeks                           0.0025      0.000     18.551      0.000       0.002       0.003\n",
      "Workclass_ Federal-gov                    0.1084      0.011      9.567      0.000       0.086       0.131\n",
      "Workclass_ Local-gov                      0.0175      0.009      1.932      0.053      -0.000       0.035\n",
      "Workclass_ Never-worked                   0.0671      0.110      0.611      0.542      -0.148       0.282\n",
      "Workclass_ Private                        0.0200      0.007      2.938      0.003       0.007       0.033\n",
      "Workclass_ Self-emp-inc                   0.1150      0.011     10.490      0.000       0.094       0.137\n",
      "Workclass_ Self-emp-not-inc              -0.0505      0.009     -5.770      0.000      -0.068      -0.033\n",
      "Workclass_ State-gov                      0.0021      0.010      0.207      0.836      -0.018       0.022\n",
      "Workclass_ Without-pay                   -0.0972      0.076     -1.279      0.201      -0.246       0.052\n",
      "Martial-Status_ Married-AF-spouse        -0.1805      0.059     -3.076      0.002      -0.296      -0.066\n",
      "Martial-Status_ Married-civ-spouse       -0.1307      0.014     -9.282      0.000      -0.158      -0.103\n",
      "Martial-Status_ Married-spouse-absent     0.0154      0.015      1.059      0.290      -0.013       0.044\n",
      "Martial-Status_ Never-married            -0.0287      0.006     -5.038      0.000      -0.040      -0.018\n",
      "Martial-Status_ Separated                 0.0013      0.010      0.132      0.895      -0.018       0.021\n",
      "Martial-Status_ Widowed                   0.0051      0.010      0.503      0.615      -0.015       0.025\n",
      "Relationship_ Not-in-family              -0.4199      0.014    -29.812      0.000      -0.447      -0.392\n",
      "Relationship_ Other-relative             -0.3797      0.015    -25.780      0.000      -0.409      -0.351\n",
      "Relationship_ Own-child                  -0.4027      0.014    -29.255      0.000      -0.430      -0.376\n",
      "Relationship_ Unmarried                  -0.4272      0.014    -29.508      0.000      -0.456      -0.399\n",
      "Relationship_ Wife                        0.0679      0.009      7.759      0.000       0.051       0.085\n",
      "Race_ Asian-Pac-Islander                 -0.1389      0.016     -8.505      0.000      -0.171      -0.107\n",
      "Race_ Black                              -0.1549      0.014    -10.711      0.000      -0.183      -0.127\n",
      "Race_ Other                              -0.1493      0.022     -6.844      0.000      -0.192      -0.107\n",
      "Race_ White                              -0.1243      0.014     -9.162      0.000      -0.151      -0.098\n",
      "Sex_ Male                                 0.0264      0.004      5.970      0.000       0.018       0.035\n",
      "==============================================================================\n",
      "Omnibus:                     2636.136   Durbin-Watson:                   1.997\n",
      "Prob(Omnibus):                  0.000   Jarque-Bera (JB):             2954.012\n",
      "Skew:                           0.585   Prob(JB):                         0.00\n",
      "Kurtosis:                       2.716   Cond. No.                     1.52e+07\n",
      "==============================================================================\n",
      "\n",
      "Warnings:\n",
      "[1] Standard Errors assume that the covariance matrix of the errors is correctly specified.\n",
      "[2] The condition number is large, 1.52e+07. This might indicate that there are\n",
      "strong multicollinearity or other numerical problems.\n"
     ]
    }
   ],
   "source": [
    "#Deciding on which column will contribute in the output\n",
    "from statsmodels.formula.api import OLS\n",
    "X_optimal=X.iloc[:,[0,1,2,3,4,5,6,7,8,9,10,11,12,13,14,15,16,17,18,19,20,21,22,23,24,25,26,27,28,29]]\n",
    "model_ols=OLS(endog=y,exog= X_optimal.astype(float)).fit()\n",
    "print(model_ols.summary())\n"
   ]
  },
  {
   "cell_type": "code",
   "execution_count": 18,
   "metadata": {},
   "outputs": [
    {
     "name": "stdout",
     "output_type": "stream",
     "text": [
      "                            OLS Regression Results                            \n",
      "==============================================================================\n",
      "Dep. Variable:                 Target   R-squared:                       0.498\n",
      "Model:                            OLS   Adj. R-squared:                  0.498\n",
      "Method:                 Least Squares   F-statistic:                     1669.\n",
      "Date:                Thu, 17 Jan 2019   Prob (F-statistic):               0.00\n",
      "Time:                        20:03:18   Log-Likelihood:                -17558.\n",
      "No. Observations:               48842   AIC:                         3.517e+04\n",
      "Df Residuals:                   48813   BIC:                         3.543e+04\n",
      "Df Model:                          29                                         \n",
      "Covariance Type:            nonrobust                                         \n",
      "=========================================================================================================\n",
      "                                            coef    std err          t      P>|t|      [0.025      0.975]\n",
      "---------------------------------------------------------------------------------------------------------\n",
      "Age                                       0.0022      0.000     15.160      0.000       0.002       0.002\n",
      "Fnlwgt                                 6.743e-08   1.51e-08      4.475      0.000    3.79e-08     9.7e-08\n",
      "Education-num                             0.0405      0.001     64.037      0.000       0.039       0.042\n",
      "Captial-gain                           8.526e-06   2.14e-07     39.771      0.000    8.11e-06    8.95e-06\n",
      "Captial-loss                           9.901e-05   3.93e-06     25.216      0.000    9.13e-05       0.000\n",
      "Hours-per-weeks                           0.0025      0.000     18.553      0.000       0.002       0.003\n",
      "Workclass_ Federal-gov                    0.1082      0.011      9.553      0.000       0.086       0.130\n",
      "Workclass_ Local-gov                      0.0173      0.009      1.910      0.056      -0.000       0.035\n",
      "Workclass_ Private                        0.0198      0.007      2.909      0.004       0.006       0.033\n",
      "Workclass_ Self-emp-inc                   0.1148      0.011     10.476      0.000       0.093       0.136\n",
      "Workclass_ Self-emp-not-inc              -0.0507      0.009     -5.798      0.000      -0.068      -0.034\n",
      "Workclass_ State-gov                      0.0019      0.010      0.186      0.852      -0.018       0.022\n",
      "Workclass_ Without-pay                   -0.0974      0.076     -1.282      0.200      -0.246       0.052\n",
      "Martial-Status_ Married-AF-spouse        -0.1805      0.059     -3.076      0.002      -0.296      -0.065\n",
      "Martial-Status_ Married-civ-spouse       -0.1306      0.014     -9.276      0.000      -0.158      -0.103\n",
      "Martial-Status_ Married-spouse-absent     0.0154      0.015      1.065      0.287      -0.013       0.044\n",
      "Martial-Status_ Never-married            -0.0288      0.006     -5.040      0.000      -0.040      -0.018\n",
      "Martial-Status_ Separated                 0.0013      0.010      0.130      0.896      -0.018       0.021\n",
      "Martial-Status_ Widowed                   0.0051      0.010      0.503      0.615      -0.015       0.025\n",
      "Relationship_ Not-in-family              -0.4198      0.014    -29.806      0.000      -0.447      -0.392\n",
      "Relationship_ Other-relative             -0.3796      0.015    -25.774      0.000      -0.408      -0.351\n",
      "Relationship_ Own-child                  -0.4025      0.014    -29.249      0.000      -0.429      -0.376\n",
      "Relationship_ Unmarried                  -0.4270      0.014    -29.503      0.000      -0.455      -0.399\n",
      "Relationship_ Wife                        0.0680      0.009      7.766      0.000       0.051       0.085\n",
      "Race_ Asian-Pac-Islander                 -0.1388      0.016     -8.499      0.000      -0.171      -0.107\n",
      "Race_ Black                              -0.1547      0.014    -10.702      0.000      -0.183      -0.126\n",
      "Race_ Other                              -0.1492      0.022     -6.839      0.000      -0.192      -0.106\n",
      "Race_ White                              -0.1242      0.014     -9.154      0.000      -0.151      -0.098\n",
      "Sex_ Male                                 0.0265      0.004      5.977      0.000       0.018       0.035\n",
      "==============================================================================\n",
      "Omnibus:                     2636.309   Durbin-Watson:                   1.997\n",
      "Prob(Omnibus):                  0.000   Jarque-Bera (JB):             2954.111\n",
      "Skew:                           0.585   Prob(JB):                         0.00\n",
      "Kurtosis:                       2.716   Cond. No.                     1.05e+07\n",
      "==============================================================================\n",
      "\n",
      "Warnings:\n",
      "[1] Standard Errors assume that the covariance matrix of the errors is correctly specified.\n",
      "[2] The condition number is large, 1.05e+07. This might indicate that there are\n",
      "strong multicollinearity or other numerical problems.\n"
     ]
    }
   ],
   "source": [
    "X_optimal=X.iloc[:,[0,1,2,3,4,5,6,7,9,10,11,12,13,14,15,16,17,18,19,20,21,22,23,24,25,26,27,28,29]]\n",
    "model_ols=OLS(endog=y,exog= X_optimal.astype(float)).fit()\n",
    "print(model_ols.summary())\n"
   ]
  },
  {
   "cell_type": "code",
   "execution_count": 19,
   "metadata": {},
   "outputs": [],
   "source": [
    "#Dividing the Dataset after applying OLS into X and y \n",
    "X=new_Dataset.drop(['Target','Native-Contry','Education','Occupation','Workclass_ Never-worked'],axis=1) \n",
    "y=new_Dataset['Target']"
   ]
  },
  {
   "cell_type": "code",
   "execution_count": 20,
   "metadata": {},
   "outputs": [],
   "source": [
    "#Dividing into test and train set\n",
    "from sklearn.model_selection import train_test_split\n",
    "X_train, X_test, y_train, y_test = train_test_split(X, y, test_size=0.33)"
   ]
  },
  {
   "cell_type": "code",
   "execution_count": 21,
   "metadata": {},
   "outputs": [
    {
     "name": "stderr",
     "output_type": "stream",
     "text": [
      "C:\\Users\\Vishal\\Anaconda3\\lib\\site-packages\\sklearn\\preprocessing\\data.py:625: DataConversionWarning: Data with input dtype uint8, int64 were all converted to float64 by StandardScaler.\n",
      "  return self.partial_fit(X, y)\n",
      "C:\\Users\\Vishal\\Anaconda3\\lib\\site-packages\\sklearn\\base.py:462: DataConversionWarning: Data with input dtype uint8, int64 were all converted to float64 by StandardScaler.\n",
      "  return self.fit(X, **fit_params).transform(X)\n",
      "C:\\Users\\Vishal\\Anaconda3\\lib\\site-packages\\ipykernel_launcher.py:5: DataConversionWarning: Data with input dtype uint8, int64 were all converted to float64 by StandardScaler.\n",
      "  \"\"\"\n"
     ]
    }
   ],
   "source": [
    "#Feature Scaling \n",
    "from sklearn.preprocessing import StandardScaler\n",
    "scaler=StandardScaler()\n",
    "X_train=scaler.fit_transform(X_train)\n",
    "X_test=scaler.transform(X_test)"
   ]
  },
  {
   "cell_type": "code",
   "execution_count": 22,
   "metadata": {},
   "outputs": [
    {
     "name": "stderr",
     "output_type": "stream",
     "text": [
      "Using TensorFlow backend.\n"
     ]
    }
   ],
   "source": [
    "#Importing the libraries required for the ANN Model\n",
    "from keras.models import Sequential\n",
    "from keras.layers import Dense\n",
    "from keras.layers import Dropout\n"
   ]
  },
  {
   "cell_type": "code",
   "execution_count": 24,
   "metadata": {},
   "outputs": [],
   "source": [
    "#Intialising the model \n",
    "model=Sequential()"
   ]
  },
  {
   "cell_type": "code",
   "execution_count": 25,
   "metadata": {},
   "outputs": [],
   "source": [
    "#First layer of our Model\n",
    "model.add(Dense(units=15,kernel_initializer='uniform',activation='relu',input_dim=29))\n",
    "#Second layer of our Model\n",
    "model.add(Dense(units=15,kernel_initializer='uniform',activation='relu'))\n",
    "#Third layer of our Model\n",
    "model.add(Dense(units=15,kernel_initializer='uniform',activation='relu'))\n",
    "#Fourth Model\n",
    "model.add(Dense(units=15,kernel_initializer='uniform',activation='relu'))"
   ]
  },
  {
   "cell_type": "code",
   "execution_count": 26,
   "metadata": {},
   "outputs": [],
   "source": [
    "#The output layer \n",
    "model.add(Dense(units=1,kernel_initializer='uniform',activation='sigmoid'))"
   ]
  },
  {
   "cell_type": "code",
   "execution_count": 27,
   "metadata": {},
   "outputs": [],
   "source": [
    "#Compiling the Model \n",
    "model.compile(optimizer='adam',loss='binary_crossentropy',metrics=['accuracy'])"
   ]
  },
  {
   "cell_type": "code",
   "execution_count": 28,
   "metadata": {},
   "outputs": [
    {
     "name": "stdout",
     "output_type": "stream",
     "text": [
      "Epoch 1/100\n",
      "32724/32724 [==============================] - 4s 126us/step - loss: 0.3608 - acc: 0.8340\n",
      "Epoch 2/100\n",
      "32724/32724 [==============================] - 4s 125us/step - loss: 0.3249 - acc: 0.8506\n",
      "Epoch 3/100\n",
      "32724/32724 [==============================] - 4s 108us/step - loss: 0.3216 - acc: 0.8502\n",
      "Epoch 4/100\n",
      "32724/32724 [==============================] - 4s 107us/step - loss: 0.3194 - acc: 0.8517\n",
      "Epoch 5/100\n",
      "32724/32724 [==============================] - 3s 90us/step - loss: 0.3180 - acc: 0.8512\n",
      "Epoch 6/100\n",
      "32724/32724 [==============================] - 4s 107us/step - loss: 0.3173 - acc: 0.8522\n",
      "Epoch 7/100\n",
      "32724/32724 [==============================] - 4s 112us/step - loss: 0.3167 - acc: 0.8523\n",
      "Epoch 8/100\n",
      "32724/32724 [==============================] - 3s 87us/step - loss: 0.3169 - acc: 0.8528\n",
      "Epoch 9/100\n",
      "32724/32724 [==============================] - 3s 88us/step - loss: 0.3161 - acc: 0.8538\n",
      "Epoch 10/100\n",
      "32724/32724 [==============================] - 3s 88us/step - loss: 0.3146 - acc: 0.8522\n",
      "Epoch 11/100\n",
      "32724/32724 [==============================] - 3s 100us/step - loss: 0.3132 - acc: 0.8543\n",
      "Epoch 12/100\n",
      "32724/32724 [==============================] - 3s 99us/step - loss: 0.3130 - acc: 0.8538\n",
      "Epoch 13/100\n",
      "32724/32724 [==============================] - 3s 88us/step - loss: 0.3126 - acc: 0.8533\n",
      "Epoch 14/100\n",
      "32724/32724 [==============================] - 3s 91us/step - loss: 0.3129 - acc: 0.8533\n",
      "Epoch 15/100\n",
      "32724/32724 [==============================] - 3s 88us/step - loss: 0.3124 - acc: 0.8543\n",
      "Epoch 16/100\n",
      "32724/32724 [==============================] - 3s 96us/step - loss: 0.3115 - acc: 0.8535\n",
      "Epoch 17/100\n",
      "32724/32724 [==============================] - 4s 128us/step - loss: 0.3120 - acc: 0.8554\n",
      "Epoch 18/100\n",
      "32724/32724 [==============================] - 3s 102us/step - loss: 0.3114 - acc: 0.8533\n",
      "Epoch 19/100\n",
      "32724/32724 [==============================] - 3s 103us/step - loss: 0.3115 - acc: 0.8543\n",
      "Epoch 20/100\n",
      "32724/32724 [==============================] - 3s 102us/step - loss: 0.3111 - acc: 0.8544\n",
      "Epoch 21/100\n",
      "32724/32724 [==============================] - 4s 122us/step - loss: 0.3111 - acc: 0.8550\n",
      "Epoch 22/100\n",
      "32724/32724 [==============================] - 4s 112us/step - loss: 0.3102 - acc: 0.8547\n",
      "Epoch 23/100\n",
      "32724/32724 [==============================] - 3s 107us/step - loss: 0.3104 - acc: 0.8531\n",
      "Epoch 24/100\n",
      "32724/32724 [==============================] - 4s 116us/step - loss: 0.3103 - acc: 0.8537\n",
      "Epoch 25/100\n",
      "32724/32724 [==============================] - 5s 147us/step - loss: 0.3101 - acc: 0.8548\n",
      "Epoch 26/100\n",
      "32724/32724 [==============================] - 5s 168us/step - loss: 0.3101 - acc: 0.8543\n",
      "Epoch 27/100\n",
      "32724/32724 [==============================] - 4s 113us/step - loss: 0.3094 - acc: 0.8537\n",
      "Epoch 28/100\n",
      "32724/32724 [==============================] - 4s 120us/step - loss: 0.3099 - acc: 0.8544\n",
      "Epoch 29/100\n",
      "32724/32724 [==============================] - 4s 133us/step - loss: 0.3097 - acc: 0.8546\n",
      "Epoch 30/100\n",
      "32724/32724 [==============================] - 4s 132us/step - loss: 0.3091 - acc: 0.8544\n",
      "Epoch 31/100\n",
      "32724/32724 [==============================] - 4s 125us/step - loss: 0.3090 - acc: 0.8553\n",
      "Epoch 32/100\n",
      "32724/32724 [==============================] - 6s 186us/step - loss: 0.3091 - acc: 0.8547\n",
      "Epoch 33/100\n",
      "32724/32724 [==============================] - 4s 134us/step - loss: 0.3090 - acc: 0.8541\n",
      "Epoch 34/100\n",
      "32724/32724 [==============================] - 4s 114us/step - loss: 0.3090 - acc: 0.8543\n",
      "Epoch 35/100\n",
      "32724/32724 [==============================] - 5s 141us/step - loss: 0.3086 - acc: 0.8552\n",
      "Epoch 36/100\n",
      "32724/32724 [==============================] - 4s 130us/step - loss: 0.3089 - acc: 0.8543\n",
      "Epoch 37/100\n",
      "32724/32724 [==============================] - 5s 140us/step - loss: 0.3086 - acc: 0.8548\n",
      "Epoch 38/100\n",
      "32724/32724 [==============================] - 5s 141us/step - loss: 0.3086 - acc: 0.8545\n",
      "Epoch 39/100\n",
      "32724/32724 [==============================] - 4s 107us/step - loss: 0.3080 - acc: 0.8543\n",
      "Epoch 40/100\n",
      "32724/32724 [==============================] - 4s 111us/step - loss: 0.3081 - acc: 0.8553\n",
      "Epoch 41/100\n",
      "32724/32724 [==============================] - 3s 100us/step - loss: 0.3080 - acc: 0.8555\n",
      "Epoch 42/100\n",
      "32724/32724 [==============================] - 3s 98us/step - loss: 0.3078 - acc: 0.8546\n",
      "Epoch 43/100\n",
      "32724/32724 [==============================] - 3s 96us/step - loss: 0.3077 - acc: 0.8536\n",
      "Epoch 44/100\n",
      "32724/32724 [==============================] - 3s 105us/step - loss: 0.3076 - acc: 0.8548\n",
      "Epoch 45/100\n",
      "32724/32724 [==============================] - 4s 114us/step - loss: 0.3075 - acc: 0.8548\n",
      "Epoch 46/100\n",
      "32724/32724 [==============================] - 3s 96us/step - loss: 0.3075 - acc: 0.8537\n",
      "Epoch 47/100\n",
      "32724/32724 [==============================] - 3s 93us/step - loss: 0.3071 - acc: 0.8541\n",
      "Epoch 48/100\n",
      "32724/32724 [==============================] - 3s 94us/step - loss: 0.3067 - acc: 0.8536\n",
      "Epoch 49/100\n",
      "32724/32724 [==============================] - 4s 108us/step - loss: 0.3069 - acc: 0.8548\n",
      "Epoch 50/100\n",
      "32724/32724 [==============================] - 4s 107us/step - loss: 0.3068 - acc: 0.8548\n",
      "Epoch 51/100\n",
      "32724/32724 [==============================] - 3s 101us/step - loss: 0.3064 - acc: 0.8546\n",
      "Epoch 52/100\n",
      "32724/32724 [==============================] - 3s 99us/step - loss: 0.3069 - acc: 0.8544\n",
      "Epoch 53/100\n",
      "32724/32724 [==============================] - 3s 94us/step - loss: 0.3059 - acc: 0.8550\n",
      "Epoch 54/100\n",
      "32724/32724 [==============================] - 4s 111us/step - loss: 0.3064 - acc: 0.8548\n",
      "Epoch 55/100\n",
      "32724/32724 [==============================] - 4s 110us/step - loss: 0.3060 - acc: 0.8541\n",
      "Epoch 56/100\n",
      "32724/32724 [==============================] - 4s 117us/step - loss: 0.3057 - acc: 0.8545\n",
      "Epoch 57/100\n",
      "32724/32724 [==============================] - 3s 100us/step - loss: 0.3053 - acc: 0.8552\n",
      "Epoch 58/100\n",
      "32724/32724 [==============================] - 4s 122us/step - loss: 0.3055 - acc: 0.8539\n",
      "Epoch 59/100\n",
      "32724/32724 [==============================] - 4s 124us/step - loss: 0.3050 - acc: 0.8552\n",
      "Epoch 60/100\n",
      "32724/32724 [==============================] - 4s 112us/step - loss: 0.3054 - acc: 0.8552\n",
      "Epoch 61/100\n",
      "32724/32724 [==============================] - 5s 145us/step - loss: 0.3048 - acc: 0.8546\n",
      "Epoch 62/100\n",
      "32724/32724 [==============================] - 4s 124us/step - loss: 0.3049 - acc: 0.8543\n",
      "Epoch 63/100\n",
      "32724/32724 [==============================] - 4s 132us/step - loss: 0.3052 - acc: 0.8557\n",
      "Epoch 64/100\n",
      "32724/32724 [==============================] - 4s 120us/step - loss: 0.3045 - acc: 0.8554\n",
      "Epoch 65/100\n",
      "32724/32724 [==============================] - 4s 121us/step - loss: 0.3042 - acc: 0.8552\n",
      "Epoch 66/100\n",
      "32724/32724 [==============================] - 4s 119us/step - loss: 0.3043 - acc: 0.8546\n",
      "Epoch 67/100\n",
      "32724/32724 [==============================] - 4s 127us/step - loss: 0.3037 - acc: 0.8551\n",
      "Epoch 68/100\n",
      "32724/32724 [==============================] - 4s 108us/step - loss: 0.3039 - acc: 0.8553\n",
      "Epoch 69/100\n",
      "32724/32724 [==============================] - 3s 102us/step - loss: 0.3037 - acc: 0.8560\n",
      "Epoch 70/100\n",
      "32724/32724 [==============================] - 3s 100us/step - loss: 0.3037 - acc: 0.8555\n",
      "Epoch 71/100\n",
      "32724/32724 [==============================] - 4s 129us/step - loss: 0.3030 - acc: 0.8564\n",
      "Epoch 72/100\n",
      "32724/32724 [==============================] - 4s 111us/step - loss: 0.3034 - acc: 0.8563\n",
      "Epoch 73/100\n",
      "32724/32724 [==============================] - 3s 96us/step - loss: 0.3028 - acc: 0.8564\n",
      "Epoch 74/100\n",
      "32724/32724 [==============================] - 3s 98us/step - loss: 0.3029 - acc: 0.8562\n",
      "Epoch 75/100\n",
      "32724/32724 [==============================] - 4s 114us/step - loss: 0.3027 - acc: 0.8570\n",
      "Epoch 76/100\n",
      "32724/32724 [==============================] - 4s 111us/step - loss: 0.3025 - acc: 0.8565\n",
      "Epoch 77/100\n",
      "32724/32724 [==============================] - 3s 104us/step - loss: 0.3021 - acc: 0.8580\n",
      "Epoch 78/100\n",
      "32724/32724 [==============================] - 3s 103us/step - loss: 0.3019 - acc: 0.8565\n",
      "Epoch 79/100\n",
      "32724/32724 [==============================] - 4s 133us/step - loss: 0.3017 - acc: 0.8568\n",
      "Epoch 80/100\n"
     ]
    },
    {
     "name": "stdout",
     "output_type": "stream",
     "text": [
      "32724/32724 [==============================] - 4s 124us/step - loss: 0.3011 - acc: 0.8585\n",
      "Epoch 81/100\n",
      "32724/32724 [==============================] - 4s 112us/step - loss: 0.3013 - acc: 0.8579\n",
      "Epoch 82/100\n",
      "32724/32724 [==============================] - 3s 106us/step - loss: 0.3010 - acc: 0.8576\n",
      "Epoch 83/100\n",
      "32724/32724 [==============================] - 3s 103us/step - loss: 0.3007 - acc: 0.8580\n",
      "Epoch 84/100\n",
      "32724/32724 [==============================] - 5s 156us/step - loss: 0.3006 - acc: 0.8579\n",
      "Epoch 85/100\n",
      "32724/32724 [==============================] - 4s 125us/step - loss: 0.3006 - acc: 0.8574\n",
      "Epoch 86/100\n",
      "32724/32724 [==============================] - 5s 141us/step - loss: 0.3004 - acc: 0.8585\n",
      "Epoch 87/100\n",
      "32724/32724 [==============================] - 6s 190us/step - loss: 0.3004 - acc: 0.8585\n",
      "Epoch 88/100\n",
      "32724/32724 [==============================] - 4s 112us/step - loss: 0.3000 - acc: 0.8584\n",
      "Epoch 89/100\n",
      "32724/32724 [==============================] - 3s 95us/step - loss: 0.3000 - acc: 0.8585\n",
      "Epoch 90/100\n",
      "32724/32724 [==============================] - 3s 95us/step - loss: 0.2996 - acc: 0.8590\n",
      "Epoch 91/100\n",
      "32724/32724 [==============================] - 3s 101us/step - loss: 0.2994 - acc: 0.8593\n",
      "Epoch 92/100\n",
      "32724/32724 [==============================] - 4s 107us/step - loss: 0.2992 - acc: 0.8586 0s - loss: 0.29\n",
      "Epoch 93/100\n",
      "32724/32724 [==============================] - 3s 92us/step - loss: 0.2996 - acc: 0.8593\n",
      "Epoch 94/100\n",
      "32724/32724 [==============================] - 3s 96us/step - loss: 0.2991 - acc: 0.8592: 0s - loss: 0.2995 - acc: 0\n",
      "Epoch 95/100\n",
      "32724/32724 [==============================] - 3s 92us/step - loss: 0.2992 - acc: 0.8588\n",
      "Epoch 96/100\n",
      "32724/32724 [==============================] - 3s 101us/step - loss: 0.2986 - acc: 0.8602\n",
      "Epoch 97/100\n",
      "32724/32724 [==============================] - 4s 120us/step - loss: 0.2985 - acc: 0.8596\n",
      "Epoch 98/100\n",
      "32724/32724 [==============================] - 4s 129us/step - loss: 0.2985 - acc: 0.8601\n",
      "Epoch 99/100\n",
      "32724/32724 [==============================] - 3s 105us/step - loss: 0.2984 - acc: 0.8603\n",
      "Epoch 100/100\n",
      "32724/32724 [==============================] - 4s 119us/step - loss: 0.2984 - acc: 0.8609\n"
     ]
    },
    {
     "data": {
      "text/plain": [
       "<keras.callbacks.History at 0x2647bec06d8>"
      ]
     },
     "execution_count": 28,
     "metadata": {},
     "output_type": "execute_result"
    }
   ],
   "source": [
    "#Fitting the model to data and target data \n",
    "model.fit(X_train,y_train,batch_size=10,epochs=100)\n"
   ]
  },
  {
   "cell_type": "code",
   "execution_count": 29,
   "metadata": {},
   "outputs": [],
   "source": [
    "#Making Predictions with our Model \n",
    "prediction =model.predict(X_test)"
   ]
  },
  {
   "cell_type": "code",
   "execution_count": 30,
   "metadata": {},
   "outputs": [],
   "source": [
    "prediction=(prediction>0.5)"
   ]
  },
  {
   "cell_type": "code",
   "execution_count": 36,
   "metadata": {},
   "outputs": [],
   "source": [
    "#Evaluating the performance of our model \n",
    "from sklearn.metrics import classification_report,confusion_matrix,accuracy_score"
   ]
  },
  {
   "cell_type": "code",
   "execution_count": 37,
   "metadata": {},
   "outputs": [
    {
     "name": "stdout",
     "output_type": "stream",
     "text": [
      "              precision    recall  f1-score   support\n",
      "\n",
      "           0       0.88      0.93      0.90     12278\n",
      "           1       0.73      0.58      0.65      3840\n",
      "\n",
      "   micro avg       0.85      0.85      0.85     16118\n",
      "   macro avg       0.80      0.76      0.77     16118\n",
      "weighted avg       0.84      0.85      0.84     16118\n",
      "\n"
     ]
    }
   ],
   "source": [
    "print(classification_report(y_test,prediction))"
   ]
  },
  {
   "cell_type": "code",
   "execution_count": 38,
   "metadata": {},
   "outputs": [
    {
     "name": "stdout",
     "output_type": "stream",
     "text": [
      "[[11442   836]\n",
      " [ 1608  2232]]\n"
     ]
    }
   ],
   "source": [
    "print(confusion_matrix(y_test,prediction))"
   ]
  },
  {
   "cell_type": "code",
   "execution_count": 39,
   "metadata": {},
   "outputs": [
    {
     "name": "stdout",
     "output_type": "stream",
     "text": [
      "0.8483682839061918\n"
     ]
    }
   ],
   "source": [
    "print(accuracy_score(y_test,prediction))"
   ]
  },
  {
   "cell_type": "code",
   "execution_count": null,
   "metadata": {},
   "outputs": [],
   "source": []
  }
 ],
 "metadata": {
  "kernelspec": {
   "display_name": "Python 3",
   "language": "python",
   "name": "python3"
  },
  "language_info": {
   "codemirror_mode": {
    "name": "ipython",
    "version": 3
   },
   "file_extension": ".py",
   "mimetype": "text/x-python",
   "name": "python",
   "nbconvert_exporter": "python",
   "pygments_lexer": "ipython3",
   "version": "3.6.8"
  }
 },
 "nbformat": 4,
 "nbformat_minor": 2
}
